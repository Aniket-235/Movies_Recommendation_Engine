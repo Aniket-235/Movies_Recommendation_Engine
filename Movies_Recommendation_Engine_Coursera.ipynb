{
 "cells": [
  {
   "cell_type": "markdown",
   "metadata": {
    "colab_type": "text",
    "id": "u_0oQaUOA9CI"
   },
   "source": [
    "# Task 1: Introduction\n",
    "\n",
    "![Movies Collage](https://i.imgur.com/T7V0VZ6.png)\n",
    "\n",
    "For this project we are going to create a recommendation engine for movies for users based on there past behaviour.\n",
    "\n",
    "---\n",
    "\n",
    "We will focus on the **collaborative filtering** approach, that is: \n",
    "\n",
    "The user is recommended items that people with similar tastes and preferences liked in the past. In another word, this method predicts unknown ratings by using the similarities between users.\n",
    "\n",
    "---\n",
    "\n",
    "Note: This notebook uses `python 3` and these packages: `pandas`, `numpy`, `matplotlib` and `scikit-surprise`\n",
    "\n",
    "We can install them using:\n",
    "```Shell\n",
    "pip3 install pandas matplotlib numpy scikit-surprise\n",
    "```"
   ]
  },
  {
   "cell_type": "markdown",
   "metadata": {
    "colab_type": "text",
    "id": "eMZcgcQsm-9y"
   },
   "source": [
    "## 1.1: Installing Libraries"
   ]
  },
  {
   "cell_type": "code",
   "execution_count": 2,
   "metadata": {
    "colab": {},
    "colab_type": "code",
    "id": "HNmYMKhCnITm"
   },
   "outputs": [
    {
     "name": "stdout",
     "output_type": "stream",
     "text": [
      ">> Installing Libraries\n",
      "Defaulting to user installation because normal site-packages is not writeable\n",
      "Requirement already satisfied: pandas in /home/rhyme/.local/lib/python3.6/site-packages (1.1.0)\n",
      "Requirement already satisfied: matplotlib in /home/rhyme/.local/lib/python3.6/site-packages (3.3.0)\n",
      "Requirement already satisfied: numpy in /home/rhyme/.local/lib/python3.6/site-packages (1.19.1)\n",
      "\u001b[31mERROR: Could not find a version that satisfies the requirement scikit-suprise (from versions: none)\u001b[0m\n",
      "\u001b[31mERROR: No matching distribution found for scikit-suprise\u001b[0m\n",
      "\u001b[33mWARNING: You are using pip version 20.2.1; however, version 20.2.2 is available.\n",
      "You should consider upgrading via the '/usr/bin/python3 -m pip install --upgrade pip' command.\u001b[0m\n",
      ">> Libraries Installed\n"
     ]
    }
   ],
   "source": [
    "print('>> Installing Libraries')\n",
    "\n",
    "!pip3 install pandas matplotlib numpy scikit-suprise\n",
    "\n",
    "print('>> Libraries Installed')"
   ]
  },
  {
   "cell_type": "markdown",
   "metadata": {
    "colab_type": "text",
    "id": "FYwbN6KqJjPo"
   },
   "source": [
    "## 1.2: Importing Libraries\n",
    "\n",
    "First of all, we will need to import some libraries. This includes surprise which we will use to create the recommendation system."
   ]
  },
  {
   "cell_type": "code",
   "execution_count": 2,
   "metadata": {
    "colab": {},
    "colab_type": "code",
    "id": "5OGYBAjxAzLC"
   },
   "outputs": [
    {
     "name": "stdout",
     "output_type": "stream",
     "text": [
      ">> Importing Libraries\n",
      ">> Libraries imported.\n"
     ]
    }
   ],
   "source": [
    "print('>> Importing Libraries')\n",
    "\n",
    "import pandas as pd\n",
    "\n",
    "from surprise import Reader, Dataset, SVD\n",
    "\n",
    "from surprise.accuracy import rmse, mae\n",
    "from surprise.model_selection import cross_validate\n",
    "\n",
    "print('>> Libraries imported.')"
   ]
  },
  {
   "cell_type": "markdown",
   "metadata": {
    "colab_type": "text",
    "id": "Zg9d8GR6A_rr"
   },
   "source": [
    "# Task 2: Importing Data\n",
    "\n",
    "We will use open-source dataset from GroupLens Research ([movielens.org](http://movielens.org))"
   ]
  },
  {
   "cell_type": "markdown",
   "metadata": {
    "colab_type": "text",
    "id": "vS0k5tdWKSfZ"
   },
   "source": [
    "## 2.1: Importing the Data\n",
    "\n",
    "The dataset is saved in a `ratings.csv` file. We will use pandas to take a look at some of the rows."
   ]
  },
  {
   "cell_type": "code",
   "execution_count": 3,
   "metadata": {
    "colab": {},
    "colab_type": "code",
    "id": "3lbOmdPwKsPm"
   },
   "outputs": [
    {
     "data": {
      "text/html": [
       "<div>\n",
       "<style scoped>\n",
       "    .dataframe tbody tr th:only-of-type {\n",
       "        vertical-align: middle;\n",
       "    }\n",
       "\n",
       "    .dataframe tbody tr th {\n",
       "        vertical-align: top;\n",
       "    }\n",
       "\n",
       "    .dataframe thead th {\n",
       "        text-align: right;\n",
       "    }\n",
       "</style>\n",
       "<table border=\"1\" class=\"dataframe\">\n",
       "  <thead>\n",
       "    <tr style=\"text-align: right;\">\n",
       "      <th></th>\n",
       "      <th>userId</th>\n",
       "      <th>movieId</th>\n",
       "      <th>rating</th>\n",
       "      <th>timestamp</th>\n",
       "    </tr>\n",
       "  </thead>\n",
       "  <tbody>\n",
       "    <tr>\n",
       "      <th>0</th>\n",
       "      <td>1</td>\n",
       "      <td>1</td>\n",
       "      <td>4.0</td>\n",
       "      <td>964982703</td>\n",
       "    </tr>\n",
       "    <tr>\n",
       "      <th>1</th>\n",
       "      <td>1</td>\n",
       "      <td>3</td>\n",
       "      <td>4.0</td>\n",
       "      <td>964981247</td>\n",
       "    </tr>\n",
       "    <tr>\n",
       "      <th>2</th>\n",
       "      <td>1</td>\n",
       "      <td>6</td>\n",
       "      <td>4.0</td>\n",
       "      <td>964982224</td>\n",
       "    </tr>\n",
       "    <tr>\n",
       "      <th>3</th>\n",
       "      <td>1</td>\n",
       "      <td>47</td>\n",
       "      <td>5.0</td>\n",
       "      <td>964983815</td>\n",
       "    </tr>\n",
       "    <tr>\n",
       "      <th>4</th>\n",
       "      <td>1</td>\n",
       "      <td>50</td>\n",
       "      <td>5.0</td>\n",
       "      <td>964982931</td>\n",
       "    </tr>\n",
       "  </tbody>\n",
       "</table>\n",
       "</div>"
      ],
      "text/plain": [
       "   userId  movieId  rating  timestamp\n",
       "0       1        1     4.0  964982703\n",
       "1       1        3     4.0  964981247\n",
       "2       1        6     4.0  964982224\n",
       "3       1       47     5.0  964983815\n",
       "4       1       50     5.0  964982931"
      ]
     },
     "execution_count": 3,
     "metadata": {},
     "output_type": "execute_result"
    }
   ],
   "source": [
    "df = pd.read_csv('ratings.csv')\n",
    "df.head()"
   ]
  },
  {
   "cell_type": "markdown",
   "metadata": {
    "colab_type": "text",
    "id": "GvUhDQIgLOEY"
   },
   "source": [
    "## 2.2 Dropping timestamp\n",
    "\n",
    "We won't be using the timestamp when user gave the particular rating. So we will drop that column."
   ]
  },
  {
   "cell_type": "code",
   "execution_count": 4,
   "metadata": {
    "colab": {},
    "colab_type": "code",
    "id": "TXvWh3duLjiP"
   },
   "outputs": [
    {
     "data": {
      "text/html": [
       "<div>\n",
       "<style scoped>\n",
       "    .dataframe tbody tr th:only-of-type {\n",
       "        vertical-align: middle;\n",
       "    }\n",
       "\n",
       "    .dataframe tbody tr th {\n",
       "        vertical-align: top;\n",
       "    }\n",
       "\n",
       "    .dataframe thead th {\n",
       "        text-align: right;\n",
       "    }\n",
       "</style>\n",
       "<table border=\"1\" class=\"dataframe\">\n",
       "  <thead>\n",
       "    <tr style=\"text-align: right;\">\n",
       "      <th></th>\n",
       "      <th>userId</th>\n",
       "      <th>movieId</th>\n",
       "      <th>rating</th>\n",
       "    </tr>\n",
       "  </thead>\n",
       "  <tbody>\n",
       "    <tr>\n",
       "      <th>0</th>\n",
       "      <td>1</td>\n",
       "      <td>1</td>\n",
       "      <td>4.0</td>\n",
       "    </tr>\n",
       "    <tr>\n",
       "      <th>1</th>\n",
       "      <td>1</td>\n",
       "      <td>3</td>\n",
       "      <td>4.0</td>\n",
       "    </tr>\n",
       "    <tr>\n",
       "      <th>2</th>\n",
       "      <td>1</td>\n",
       "      <td>6</td>\n",
       "      <td>4.0</td>\n",
       "    </tr>\n",
       "    <tr>\n",
       "      <th>3</th>\n",
       "      <td>1</td>\n",
       "      <td>47</td>\n",
       "      <td>5.0</td>\n",
       "    </tr>\n",
       "    <tr>\n",
       "      <th>4</th>\n",
       "      <td>1</td>\n",
       "      <td>50</td>\n",
       "      <td>5.0</td>\n",
       "    </tr>\n",
       "  </tbody>\n",
       "</table>\n",
       "</div>"
      ],
      "text/plain": [
       "   userId  movieId  rating\n",
       "0       1        1     4.0\n",
       "1       1        3     4.0\n",
       "2       1        6     4.0\n",
       "3       1       47     5.0\n",
       "4       1       50     5.0"
      ]
     },
     "execution_count": 4,
     "metadata": {},
     "output_type": "execute_result"
    }
   ],
   "source": [
    "df.drop('timestamp' , axis = 1, inplace= True)\n",
    "df.head()"
   ]
  },
  {
   "cell_type": "markdown",
   "metadata": {
    "colab_type": "text",
    "id": "OPEBn0gAK-5m"
   },
   "source": [
    "## 2.3 Check for Missing Data\n",
    "\n",
    "It's a good practice to check if the data has any missing values. In real world data, this is quite common and must be taken care of before any data pre-processing or model training."
   ]
  },
  {
   "cell_type": "code",
   "execution_count": 5,
   "metadata": {
    "colab": {},
    "colab_type": "code",
    "id": "BfBqk7KkLFV6"
   },
   "outputs": [
    {
     "data": {
      "text/plain": [
       "userId     0\n",
       "movieId    0\n",
       "rating     0\n",
       "dtype: int64"
      ]
     },
     "execution_count": 5,
     "metadata": {},
     "output_type": "execute_result"
    }
   ],
   "source": [
    "df.isna().sum()"
   ]
  },
  {
   "cell_type": "markdown",
   "metadata": {
    "colab_type": "text",
    "id": "FQYVA-J5MCUG"
   },
   "source": [
    "# Task 3: EDA (Exploratory data analysis)\n",
    "\n",
    "In statistics, exploratory data analysis is an approach to analyzing data sets to summarize their main characteristics."
   ]
  },
  {
   "cell_type": "markdown",
   "metadata": {
    "colab_type": "text",
    "id": "XJ0CD6ZiOpRI"
   },
   "source": [
    "## 3.1 Number of movies/users"
   ]
  },
  {
   "cell_type": "code",
   "execution_count": 6,
   "metadata": {
    "colab": {},
    "colab_type": "code",
    "id": "vnEIeAO6Psj2"
   },
   "outputs": [
    {
     "name": "stdout",
     "output_type": "stream",
     "text": [
      "Number of unique movies:  9724\n",
      "Number of unique users: 610\n"
     ]
    }
   ],
   "source": [
    "n_movies = df[\"movieId\"].nunique()\n",
    "n_users = df[\"userId\"].nunique()\n",
    "print(f'Number of unique movies:  {n_movies}')\n",
    "print(f'Number of unique users: {n_users}')\n"
   ]
  },
  {
   "cell_type": "markdown",
   "metadata": {
    "colab_type": "text",
    "id": "dclqP0iXOo_F"
   },
   "source": [
    "## 3.2 Sparsity of our data\n",
    "\n",
    "Sparsity (%) = `(No of missing values/ (Total Values))X100`"
   ]
  },
  {
   "cell_type": "code",
   "execution_count": 7,
   "metadata": {
    "colab": {},
    "colab_type": "code",
    "id": "xPYF0zlfREMK"
   },
   "outputs": [
    {
     "name": "stdout",
     "output_type": "stream",
     "text": [
      "Sparsity: 98.30003169443864\n"
     ]
    }
   ],
   "source": [
    "available_ratings = df['rating'].count()\n",
    "total_ratings = n_movies * n_users\n",
    "missing_ratings = total_ratings - available_ratings\n",
    "sparsity = (missing_ratings/total_ratings) * 100\n",
    "print(f'Sparsity: {sparsity}')"
   ]
  },
  {
   "cell_type": "markdown",
   "metadata": {
    "colab_type": "text",
    "id": "kcYDLtG5Ok_p"
   },
   "source": [
    "## 3.3 Ratings Distribution"
   ]
  },
  {
   "cell_type": "code",
   "execution_count": 8,
   "metadata": {
    "colab": {},
    "colab_type": "code",
    "id": "ZO7Mv-jdL4_z"
   },
   "outputs": [
    {
     "data": {
      "text/plain": [
       "<AxesSubplot:>"
      ]
     },
     "execution_count": 8,
     "metadata": {},
     "output_type": "execute_result"
    },
    {
     "data": {
      "image/png": "[encoded data removed]",
      "text/plain": [
       "<Figure size 432x288 with 1 Axes>"
      ]
     },
     "metadata": {
      "needs_background": "light"
     },
     "output_type": "display_data"
    }
   ],
   "source": [
    "df['rating'].value_counts().plot(kind = 'bar')"
   ]
  },
  {
   "cell_type": "markdown",
   "metadata": {
    "colab_type": "text",
    "id": "xdLsIItxSd9K"
   },
   "source": [
    "# Task 4: Dimensionality Reduction\n",
    "\n",
    "To reduce the dimensionality of the dataset, we will filter out rarely rated movies and rarely rating users"
   ]
  },
  {
   "cell_type": "markdown",
   "metadata": {
    "colab_type": "text",
    "id": "i3jYt3m5TNVL"
   },
   "source": [
    "## 4.1 Filter movies with less than 3 ratings"
   ]
  },
  {
   "cell_type": "code",
   "execution_count": 11,
   "metadata": {
    "colab": {},
    "colab_type": "code",
    "id": "msZU9YSxSeUo"
   },
   "outputs": [],
   "source": [
    "filter_movies = df['movieId'].value_counts() > 3\n",
    "filter_movies = filter_movies[filter_movies].index.tolist()"
   ]
  },
  {
   "cell_type": "markdown",
   "metadata": {
    "colab_type": "text",
    "id": "IYaMxlXcTdGS"
   },
   "source": [
    "## 4.2 Filter users with less than 3 movies rated"
   ]
  },
  {
   "cell_type": "code",
   "execution_count": 12,
   "metadata": {
    "colab": {},
    "colab_type": "code",
    "id": "WPeNAggIS-Y_"
   },
   "outputs": [],
   "source": [
    "filter_user = df['userId'].value_counts() > 3\n",
    "filter_user = filter_user[filter_user].index.tolist()"
   ]
  },
  {
   "cell_type": "markdown",
   "metadata": {
    "colab_type": "text",
    "id": "c2LFIAGXT3ro"
   },
   "source": [
    "## 4.3 Remove rarely rated movies and rarely rating users"
   ]
  },
  {
   "cell_type": "code",
   "execution_count": 15,
   "metadata": {
    "colab": {},
    "colab_type": "code",
    "id": "tTUG4ao6S_x7"
   },
   "outputs": [
    {
     "name": "stdout",
     "output_type": "stream",
     "text": [
      "Original Shape: (100836, 3)\n",
      "New Shape : (92394, 3)\n"
     ]
    }
   ],
   "source": [
    "print(f'Original Shape: {df.shape}')\n",
    "df = df[(df['movieId'].isin(filter_movies)) & (df['userId'].isin(filter_user))]\n",
    "print(f'New Shape : {df.shape}')"
   ]
  },
  {
   "cell_type": "markdown",
   "metadata": {
    "colab_type": "text",
    "id": "TbviZWiPM3jQ"
   },
   "source": [
    "# Task 5: Create Training and Test Sets"
   ]
  },
  {
   "cell_type": "markdown",
   "metadata": {
    "colab_type": "text",
    "id": "TIK2L0VuhbgA"
   },
   "source": [
    "## 5.1 Columns used for training"
   ]
  },
  {
   "cell_type": "code",
   "execution_count": 16,
   "metadata": {
    "colab": {},
    "colab_type": "code",
    "id": "bXF4dmJKhF7q"
   },
   "outputs": [],
   "source": [
    "cols = ['userId' , 'movieId', 'rating']"
   ]
  },
  {
   "cell_type": "markdown",
   "metadata": {
    "colab_type": "text",
    "id": "J8rylnJmUjYk"
   },
   "source": [
    "## 5.2 Create surprise dataset"
   ]
  },
  {
   "cell_type": "code",
   "execution_count": 17,
   "metadata": {
    "colab": {},
    "colab_type": "code",
    "id": "4UOTMUssM6Tw"
   },
   "outputs": [],
   "source": [
    "reader = Reader(rating_scale = (0.5, 5))\n",
    "data = Dataset.load_from_df(df[cols], reader)"
   ]
  },
  {
   "cell_type": "markdown",
   "metadata": {
    "colab_type": "text",
    "id": "8lM--CdvguDz"
   },
   "source": [
    "## 5.3 Create Train-set and Prediction-set"
   ]
  },
  {
   "cell_type": "code",
   "execution_count": 18,
   "metadata": {
    "colab": {},
    "colab_type": "code",
    "id": "heITVvtvU1FD"
   },
   "outputs": [],
   "source": [
    "trainset = data.build_full_trainset()\n",
    "antiset = trainset.build_anti_testset()"
   ]
  },
  {
   "cell_type": "markdown",
   "metadata": {
    "colab_type": "text",
    "id": "AYfhHDReuO5h"
   },
   "source": [
    "# Task 6: Creating and training the model"
   ]
  },
  {
   "cell_type": "markdown",
   "metadata": {
    "colab_type": "text",
    "id": "R4e28tFHubv9"
   },
   "source": [
    "## 6.1 Creating the model\n",
    "\n",
    "**SVD (Singular Value Decomposition)**\n",
    "\n",
    "Interaction Matrix = A X B X C"
   ]
  },
  {
   "cell_type": "code",
   "execution_count": 19,
   "metadata": {
    "colab": {},
    "colab_type": "code",
    "id": "Ft4rS3L-hqeS"
   },
   "outputs": [],
   "source": [
    "algo = SVD(n_epochs = 25, verbose = True)"
   ]
  },
  {
   "cell_type": "markdown",
   "metadata": {
    "colab_type": "text",
    "id": "h_16sRpXwahF"
   },
   "source": [
    "## 6.2 Training the model\n",
    "\n",
    "**Mean Absolute Error (MAE)**: MAE measures the average magnitude of the errors in a set of predictions, without considering their direction. \n",
    "\n",
    "**Root mean squared error (RMSE)**:  RMSE is the square root of the average of squared differences between prediction and actual observation."
   ]
  },
  {
   "cell_type": "code",
   "execution_count": 22,
   "metadata": {
    "colab": {},
    "colab_type": "code",
    "id": "nh-E5DS5wYe_"
   },
   "outputs": [
    {
     "name": "stdout",
     "output_type": "stream",
     "text": [
      "Processing epoch 0\n",
      "Processing epoch 1\n",
      "Processing epoch 2\n",
      "Processing epoch 3\n",
      "Processing epoch 4\n",
      "Processing epoch 5\n",
      "Processing epoch 6\n",
      "Processing epoch 7\n",
      "Processing epoch 8\n",
      "Processing epoch 9\n",
      "Processing epoch 10\n",
      "Processing epoch 11\n",
      "Processing epoch 12\n",
      "Processing epoch 13\n",
      "Processing epoch 14\n",
      "Processing epoch 15\n",
      "Processing epoch 16\n",
      "Processing epoch 17\n",
      "Processing epoch 18\n",
      "Processing epoch 19\n",
      "Processing epoch 20\n",
      "Processing epoch 21\n",
      "Processing epoch 22\n",
      "Processing epoch 23\n",
      "Processing epoch 24\n",
      "Processing epoch 0\n",
      "Processing epoch 1\n",
      "Processing epoch 2\n",
      "Processing epoch 3\n",
      "Processing epoch 4\n",
      "Processing epoch 5\n",
      "Processing epoch 6\n",
      "Processing epoch 7\n",
      "Processing epoch 8\n",
      "Processing epoch 9\n",
      "Processing epoch 10\n",
      "Processing epoch 11\n",
      "Processing epoch 12\n",
      "Processing epoch 13\n",
      "Processing epoch 14\n",
      "Processing epoch 15\n",
      "Processing epoch 16\n",
      "Processing epoch 17\n",
      "Processing epoch 18\n",
      "Processing epoch 19\n",
      "Processing epoch 20\n",
      "Processing epoch 21\n",
      "Processing epoch 22\n",
      "Processing epoch 23\n",
      "Processing epoch 24\n",
      "Processing epoch 0\n",
      "Processing epoch 1\n",
      "Processing epoch 2\n",
      "Processing epoch 3\n",
      "Processing epoch 4\n",
      "Processing epoch 5\n",
      "Processing epoch 6\n",
      "Processing epoch 7\n",
      "Processing epoch 8\n",
      "Processing epoch 9\n",
      "Processing epoch 10\n",
      "Processing epoch 11\n",
      "Processing epoch 12\n",
      "Processing epoch 13\n",
      "Processing epoch 14\n",
      "Processing epoch 15\n",
      "Processing epoch 16\n",
      "Processing epoch 17\n",
      "Processing epoch 18\n",
      "Processing epoch 19\n",
      "Processing epoch 20\n",
      "Processing epoch 21\n",
      "Processing epoch 22\n",
      "Processing epoch 23\n",
      "Processing epoch 24\n",
      "Processing epoch 0\n",
      "Processing epoch 1\n",
      "Processing epoch 2\n",
      "Processing epoch 3\n",
      "Processing epoch 4\n",
      "Processing epoch 5\n",
      "Processing epoch 6\n",
      "Processing epoch 7\n",
      "Processing epoch 8\n",
      "Processing epoch 9\n",
      "Processing epoch 10\n",
      "Processing epoch 11\n",
      "Processing epoch 12\n",
      "Processing epoch 13\n",
      "Processing epoch 14\n",
      "Processing epoch 15\n",
      "Processing epoch 16\n",
      "Processing epoch 17\n",
      "Processing epoch 18\n",
      "Processing epoch 19\n",
      "Processing epoch 20\n",
      "Processing epoch 21\n",
      "Processing epoch 22\n",
      "Processing epoch 23\n",
      "Processing epoch 24\n",
      "Processing epoch 0\n",
      "Processing epoch 1\n",
      "Processing epoch 2\n",
      "Processing epoch 3\n",
      "Processing epoch 4\n",
      "Processing epoch 5\n",
      "Processing epoch 6\n",
      "Processing epoch 7\n",
      "Processing epoch 8\n",
      "Processing epoch 9\n",
      "Processing epoch 10\n",
      "Processing epoch 11\n",
      "Processing epoch 12\n",
      "Processing epoch 13\n",
      "Processing epoch 14\n",
      "Processing epoch 15\n",
      "Processing epoch 16\n",
      "Processing epoch 17\n",
      "Processing epoch 18\n",
      "Processing epoch 19\n",
      "Processing epoch 20\n",
      "Processing epoch 21\n",
      "Processing epoch 22\n",
      "Processing epoch 23\n",
      "Processing epoch 24\n",
      "Evaluating RMSE, MAE of algorithm SVD on 5 split(s).\n",
      "\n",
      "                  Fold 1  Fold 2  Fold 3  Fold 4  Fold 5  Mean    Std     \n",
      "RMSE (testset)    0.8590  0.8598  0.8630  0.8546  0.8668  0.8606  0.0041  \n",
      "MAE (testset)     0.6615  0.6607  0.6614  0.6552  0.6634  0.6604  0.0027  \n",
      "Fit time          10.14   11.46   10.39   10.51   10.76   10.65   0.45    \n",
      "Test time         0.24    0.21    0.21    1.06    0.21    0.38    0.34    \n",
      ">> Training Done\n"
     ]
    }
   ],
   "source": [
    "cross_validate(algo, data, measures = ['RMSE', 'MAE'] ,cv = 5 ,verbose =True)\n",
    "print('>> Training Done')"
   ]
  },
  {
   "cell_type": "markdown",
   "metadata": {
    "colab_type": "text",
    "id": "zTnqbNt_xkKS"
   },
   "source": [
    "# Task 7: Predictions"
   ]
  },
  {
   "cell_type": "markdown",
   "metadata": {
    "colab_type": "text",
    "id": "ma3oQr1Ax_Hg"
   },
   "source": [
    "## 7.1 Predict ratings for all pairs (user, items) that are NOT in the training set."
   ]
  },
  {
   "cell_type": "code",
   "execution_count": 23,
   "metadata": {
    "colab": {},
    "colab_type": "code",
    "id": "_K3EmIs3wxhW"
   },
   "outputs": [],
   "source": [
    "predictions = algo.test(antiset)"
   ]
  },
  {
   "cell_type": "code",
   "execution_count": 24,
   "metadata": {
    "colab": {},
    "colab_type": "code",
    "id": "RkqiEwM9z4Jf"
   },
   "outputs": [
    {
     "data": {
      "text/plain": [
       "Prediction(uid=1, iid=318, r_ui=3.529119856267723, est=5, details={'was_impossible': False})"
      ]
     },
     "execution_count": 24,
     "metadata": {},
     "output_type": "execute_result"
    }
   ],
   "source": [
    "predictions[0]"
   ]
  },
  {
   "cell_type": "markdown",
   "metadata": {
    "colab_type": "text",
    "id": "lRmzGn63ze8b"
   },
   "source": [
    "## 7.2 Recommending top 3 movies movies based on predictions"
   ]
  },
  {
   "cell_type": "code",
   "execution_count": 26,
   "metadata": {
    "colab": {},
    "colab_type": "code",
    "id": "q3Ugauv0119g"
   },
   "outputs": [
    {
     "name": "stdout",
     "output_type": "stream",
     "text": [
      "1 [318, 58, 475]\n",
      "2 [296, 750, 4226]\n",
      "3 [260, 858, 1210]\n",
      "4 [2329, 2194, 1249]\n",
      "5 [898, 1250, 750]\n",
      "6 [1262, 922, 46578]\n",
      "7 [177593, 898, 1203]\n",
      "8 [750, 3266, 1204]\n",
      "9 [260, 7153, 750]\n",
      "10 [1237, 1172, 1287]\n",
      "11 [1276, 1252, 4226]\n",
      "12 [50, 356, 527]\n",
      "13 [858, 4973, 750]\n",
      "14 [1394, 1252, 750]\n",
      "15 [5992, 933, 898]\n",
      "16 [177593, 1104, 265]\n",
      "17 [3275, 898, 1204]\n",
      "18 [750, 1104, 922]\n",
      "19 [858, 318, 1276]\n",
      "20 [306, 1193, 1104]\n",
      "21 [1250, 475, 1278]\n",
      "22 [912, 1197, 1172]\n",
      "23 [1104, 1225, 44195]\n",
      "24 [527, 750, 3451]\n",
      "25 [50, 1196, 2502]\n",
      "26 [750, 7361, 318]\n",
      "27 [318, 3916, 912]\n",
      "28 [1225, 2019, 1172]\n",
      "29 [898, 27773, 1197]\n",
      "30 [898, 1250, 2324]\n",
      "31 [1207, 908, 1261]\n",
      "32 [898, 1193, 750]\n",
      "33 [3451, 1198, 4993]\n",
      "34 [1089, 750, 1225]\n",
      "35 [2571, 527, 1204]\n",
      "36 [858, 2959, 527]\n",
      "37 [750, 1136, 898]\n",
      "38 [57669, 858, 2324]\n",
      "39 [541, 2959, 48516]\n",
      "40 [720, 2571, 50]\n",
      "41 [307, 1263, 1235]\n",
      "42 [1250, 1228, 1208]\n",
      "43 [6, 50, 223]\n",
      "44 [318, 4226, 4973]\n",
      "45 [318, 48516, 79132]\n",
      "46 [527, 750, 3552]\n",
      "47 [1136, 750, 1215]\n",
      "48 [1104, 5618, 922]\n",
      "49 [2329, 3435, 750]\n",
      "50 [898, 1233, 1221]\n",
      "51 [296, 2858, 2959]\n",
      "52 [50, 527, 593]\n",
      "53 [6, 47, 50]\n",
      "54 [898, 1276, 750]\n",
      "55 [858, 750, 4973]\n",
      "56 [3435, 898, 104879]\n",
      "57 [318, 4226, 7153]\n",
      "58 [750, 2324, 1089]\n",
      "59 [1089, 1225, 1104]\n",
      "60 [3451, 750, 904]\n",
      "61 [858, 527, 1204]\n",
      "62 [2324, 3451, 3435]\n",
      "63 [593, 1225, 3275]\n",
      "64 [1235, 1252, 750]\n",
      "65 [50, 1089, 1213]\n",
      "66 [858, 527, 1225]\n",
      "67 [4973, 1284, 1204]\n",
      "68 [745, 1241, 2912]\n",
      "69 [2959, 6874, 2324]\n",
      "70 [2329, 1213, 1252]\n",
      "71 [922, 908, 1276]\n",
      "72 [898, 541, 750]\n",
      "73 [750, 1136, 4973]\n",
      "74 [898, 750, 1288]\n",
      "75 [922, 2959, 293]\n",
      "76 [1228, 898, 8874]\n",
      "77 [318, 750, 527]\n",
      "78 [898, 5902, 1197]\n",
      "79 [750, 720, 3503]\n",
      "80 [1104, 2502, 750]\n",
      "81 [1276, 898, 8368]\n",
      "82 [318, 7090, 7371]\n",
      "83 [1252, 1276, 296]\n",
      "84 [7153, 4993, 3275]\n",
      "85 [1225, 750, 1276]\n",
      "86 [1272, 44555, 750]\n",
      "87 [527, 318, 858]\n",
      "88 [898, 2788, 910]\n",
      "89 [1258, 1245, 308]\n",
      "90 [50, 2959, 1214]\n",
      "91 [930, 57669, 68157]\n",
      "92 [750, 296, 8368]\n",
      "93 [1080, 1196, 1197]\n",
      "94 [858, 3147, 750]\n",
      "95 [1197, 1261, 318]\n",
      "96 [750, 1252, 909]\n",
      "97 [750, 3275, 1276]\n",
      "98 [296, 7361, 898]\n",
      "99 [110, 527, 58559]\n",
      "100 [318, 6283, 2788]\n",
      "101 [1276, 750, 904]\n",
      "102 [750, 50, 2571]\n",
      "103 [1136, 3275, 1234]\n",
      "104 [1262, 4995, 1204]\n",
      "105 [1276, 908, 3730]\n",
      "106 [1199, 750, 4011]\n",
      "107 [750, 1252, 356]\n",
      "108 [296, 318, 50]\n",
      "109 [1104, 78499, 898]\n",
      "110 [2324, 898, 318]\n",
      "111 [1035, 750, 951]\n",
      "112 [527, 2959, 1276]\n",
      "113 [1262, 527, 110]\n",
      "114 [318, 750, 1178]\n",
      "115 [922, 1276, 1374]\n",
      "116 [750, 1250, 17]\n",
      "117 [1276, 1204, 750]\n",
      "118 [1197, 904, 318]\n",
      "119 [1276, 951, 1235]\n",
      "120 [2028, 912, 318]\n",
      "121 [898, 1225, 2160]\n",
      "122 [110, 527, 1258]\n",
      "123 [750, 1235, 904]\n",
      "124 [1208, 1197, 3266]\n",
      "125 [898, 912, 1262]\n",
      "126 [1237, 92259, 71899]\n",
      "127 [541, 1208, 3451]\n",
      "128 [1258, 741, 913]\n",
      "129 [750, 2329, 4011]\n",
      "130 [750, 30707, 2329]\n",
      "131 [750, 55820, 1250]\n",
      "132 [1245, 1193, 1284]\n",
      "133 [750, 2959, 858]\n",
      "134 [318, 898, 1207]\n",
      "135 [6874, 7153, 898]\n",
      "136 [1199, 5618, 1104]\n",
      "137 [5618, 4011, 5902]\n",
      "138 [3435, 750, 3451]\n",
      "139 [2571, 4973, 858]\n",
      "140 [1225, 910, 4976]\n",
      "141 [1276, 908, 922]\n",
      "142 [750, 1208, 318]\n",
      "143 [177593, 306, 45728]\n",
      "144 [904, 912, 1104]\n",
      "145 [858, 1208, 750]\n",
      "146 [1197, 50, 44195]\n",
      "147 [1212, 898, 1233]\n",
      "148 [318, 1237, 1262]\n",
      "149 [4973, 296, 2959]\n",
      "150 [527, 750, 1225]\n",
      "151 [898, 7361, 50]\n",
      "152 [1089, 1225, 1247]\n",
      "153 [318, 48780, 593]\n",
      "154 [50, 296, 593]\n",
      "155 [2324, 1262, 750]\n",
      "156 [2959, 3429, 3000]\n",
      "157 [858, 750, 296]\n",
      "158 [750, 898, 1276]\n",
      "159 [1237, 177593, 1270]\n",
      "160 [4878, 4226, 6874]\n",
      "161 [750, 858, 2324]\n",
      "162 [750, 898, 7153]\n",
      "163 [541, 1104, 1136]\n",
      "164 [527, 318, 898]\n",
      "165 [898, 1252, 750]\n",
      "166 [750, 1204, 1387]\n",
      "167 [60069, 2571, 58559]\n",
      "168 [308, 1235, 593]\n",
      "169 [1198, 720, 265]\n",
      "170 [527, 898, 2324]\n",
      "171 [50, 1213, 1222]\n",
      "172 [1276, 44195, 750]\n",
      "173 [750, 1237, 318]\n",
      "174 [1204, 1250, 265]\n",
      "175 [48516, 750, 904]\n",
      "176 [527, 750, 3508]\n",
      "177 [1262, 41997, 1281]\n",
      "178 [720, 1089, 541]\n",
      "179 [750, 1104, 1207]\n",
      "180 [858, 3275, 1250]\n",
      "181 [318, 3451, 2324]\n",
      "182 [3083, 969, 1250]\n",
      "183 [750, 1193, 898]\n",
      "184 [858, 2959, 1221]\n",
      "185 [750, 1204, 2329]\n",
      "186 [2959, 318, 1276]\n",
      "187 [1945, 898, 1287]\n",
      "188 [6874, 1261, 1199]\n",
      "189 [858, 2329, 750]\n",
      "190 [1235, 4226, 1208]\n",
      "191 [898, 2762, 1193]\n",
      "192 [750, 3435, 2324]\n",
      "193 [898, 750, 1104]\n",
      "194 [898, 1237, 2788]\n",
      "195 [1283, 2959, 898]\n",
      "196 [527, 318, 1704]\n",
      "197 [750, 3451, 1274]\n",
      "198 [293, 6874, 7361]\n",
      "199 [3435, 1967, 38038]\n",
      "200 [750, 1208, 48516]\n",
      "201 [50, 2959, 318]\n",
      "202 [5952, 4993, 177593]\n",
      "203 [858, 1276, 1197]\n",
      "204 [922, 5618, 750]\n",
      "205 [7361, 750, 898]\n",
      "206 [296, 1089, 48516]\n",
      "207 [898, 2571, 593]\n",
      "208 [2959, 4226, 318]\n",
      "209 [750, 541, 741]\n",
      "210 [318, 898, 1223]\n",
      "211 [3275, 750, 1250]\n",
      "212 [1276, 3275, 1237]\n",
      "213 [750, 318, 898]\n",
      "214 [318, 260, 898]\n",
      "215 [858, 1213, 1262]\n",
      "216 [750, 1222, 3147]\n",
      "217 [541, 1262, 3507]\n",
      "218 [296, 4993, 608]\n",
      "219 [1214, 527, 475]\n",
      "220 [1250, 7090, 3552]\n",
      "221 [1221, 1228, 4993]\n",
      "222 [750, 7361, 1945]\n",
      "223 [1276, 1237, 3275]\n",
      "224 [73017, 541, 4878]\n",
      "225 [318, 2502, 48516]\n",
      "226 [750, 858, 1228]\n",
      "227 [922, 1235, 3275]\n",
      "228 [750, 7361, 1283]\n",
      "229 [750, 898, 3435]\n",
      "230 [48516, 1258, 7090]\n",
      "231 [2329, 922, 1221]\n",
      "232 [898, 2788, 2692]\n",
      "233 [750, 1204, 904]\n",
      "234 [1199, 296, 111]\n",
      "235 [922, 1207, 1276]\n",
      "236 [296, 750, 1204]\n",
      "237 [2788, 4226, 30707]\n",
      "238 [1089, 318, 898]\n",
      "239 [750, 56782, 1235]\n",
      "240 [2329, 898, 2791]\n",
      "241 [30707, 1237, 1104]\n",
      "242 [1197, 527, 750]\n",
      "243 [318, 720, 1225]\n",
      "244 [296, 1206, 4993]\n",
      "245 [1208, 50, 1204]\n",
      "246 [898, 1225, 858]\n",
      "247 [750, 4973, 5971]\n",
      "248 [1204, 1104, 1208]\n",
      "249 [3435, 898, 1276]\n",
      "250 [2324, 527, 1210]\n",
      "251 [50, 923, 1198]\n",
      "252 [318, 1204, 527]\n",
      "253 [296, 318, 1221]\n",
      "254 [1104, 1276, 1237]\n",
      "255 [898, 1233, 1089]\n",
      "256 [898, 3451, 177593]\n",
      "257 [750, 2398, 1199]\n",
      "258 [922, 1225, 1252]\n",
      "259 [296, 750, 858]\n",
      "260 [1237, 1225, 356]\n",
      "261 [2959, 593, 750]\n",
      "262 [858, 750, 527]\n",
      "263 [2959, 1035, 898]\n",
      "264 [720, 1198, 1178]\n",
      "265 [750, 1283, 7153]\n",
      "266 [750, 1221, 4226]\n",
      "267 [1276, 318, 1204]\n",
      "268 [296, 1225, 4993]\n",
      "269 [2502, 2571, 898]\n",
      "270 [1193, 527, 1104]\n",
      "271 [50, 1235, 356]\n",
      "272 [4226, 750, 527]\n",
      "273 [898, 1245, 318]\n",
      "274 [720, 112552, 898]\n",
      "275 [1921, 1036, 4995]\n",
      "276 [50, 457, 593]\n",
      "277 [2959, 898, 527]\n",
      "278 [750, 4226, 1196]\n",
      "279 [750, 457, 2360]\n",
      "280 [908, 5618, 1148]\n",
      "281 [898, 318, 1276]\n",
      "282 [1104, 3451, 904]\n",
      "283 [1276, 27773, 3578]\n",
      "284 [260, 898, 1197]\n",
      "285 [608, 4973, 720]\n",
      "286 [318, 48516, 1089]\n",
      "287 [541, 1247, 4011]\n",
      "288 [2858, 858, 50]\n",
      "289 [318, 527, 50]\n",
      "290 [1223, 6283, 2324]\n",
      "291 [750, 1250, 720]\n",
      "292 [1250, 7090, 50]\n",
      "293 [750, 898, 1261]\n",
      "294 [6711, 1250, 177593]\n",
      "295 [1208, 1225, 38038]\n",
      "296 [858, 4973, 3275]\n",
      "297 [1197, 1208, 858]\n",
      "298 [527, 593, 7247]\n",
      "299 [858, 260, 527]\n",
      "300 [750, 4226, 1196]\n",
      "301 [593, 750, 1104]\n",
      "302 [750, 898, 1208]\n",
      "303 [318, 750, 356]\n",
      "304 [28, 750, 3730]\n",
      "305 [162, 1230, 1233]\n",
      "306 [2571, 1276, 3451]\n",
      "307 [5995, 2028, 122916]\n",
      "308 [1212, 1250, 1303]\n",
      "309 [162, 1035, 750]\n",
      "310 [4011, 296, 593]\n",
      "311 [318, 3275, 898]\n",
      "312 [296, 1197, 4226]\n",
      "313 [56251, 3147, 58]\n",
      "314 [1035, 720, 2959]\n",
      "315 [858, 1089, 4973]\n",
      "316 [1104, 2791, 1193]\n",
      "317 [928, 1148, 3435]\n",
      "318 [898, 50, 2788]\n",
      "319 [750, 741, 1225]\n",
      "320 [1089, 318, 858]\n",
      "321 [1276, 750, 2959]\n",
      "322 [898, 2398, 3468]\n",
      "323 [750, 1235, 1237]\n",
      "324 [750, 1276, 1199]\n",
      "325 [608, 2324, 750]\n",
      "326 [922, 1225, 1263]\n",
      "327 [1262, 922, 1204]\n",
      "328 [2324, 903, 1104]\n",
      "329 [1212, 2289, 1225]\n",
      "330 [1276, 1281, 27773]\n",
      "331 [1252, 27773, 750]\n",
      "332 [1288, 177593, 142488]\n",
      "333 [922, 1276, 898]\n",
      "334 [1274, 3451, 1207]\n",
      "335 [3451, 4973, 898]\n",
      "336 [1235, 3275, 778]\n",
      "337 [356, 527, 608]\n",
      "338 [246, 750, 1276]\n",
      "339 [3275, 898, 1104]\n",
      "340 [527, 2959, 750]\n",
      "341 [750, 1104, 318]\n",
      "342 [750, 541, 720]\n",
      "343 [1199, 1233, 177593]\n",
      "344 [1250, 1262, 3451]\n",
      "345 [2959, 750, 1276]\n",
      "346 [1250, 3451, 1272]\n",
      "347 [750, 1250, 2324]\n",
      "348 [904, 922, 4011]\n",
      "349 [541, 720, 3451]\n",
      "350 [2324, 1261, 1225]\n",
      "351 [318, 750, 1262]\n",
      "352 [898, 1203, 8370]\n",
      "353 [260, 858, 5618]\n",
      "354 [1104, 1276, 112552]\n",
      "355 [750, 2959, 318]\n",
      "356 [162, 3503, 904]\n",
      "357 [1204, 177593, 4235]\n",
      "358 [527, 318, 1223]\n",
      "359 [1235, 1193, 1104]\n",
      "360 [2959, 318, 1199]\n",
      "361 [265, 1258, 25771]\n",
      "362 [750, 898, 2398]\n",
      "363 [78499, 750, 1276]\n",
      "364 [750, 3435, 2692]\n",
      "365 [908, 475, 1394]\n",
      "366 [318, 527, 898]\n",
      "367 [71899, 168252, 750]\n",
      "368 [4226, 750, 2959]\n",
      "369 [593, 1204, 3451]\n",
      "370 [1258, 3275, 898]\n",
      "371 [260, 1089, 1213]\n",
      "372 [2959, 6874, 1704]\n",
      "373 [2959, 1089, 3451]\n",
      "374 [750, 858, 1204]\n",
      "375 [750, 296, 57669]\n",
      "376 [1041, 1225, 1276]\n",
      "377 [4226, 3435, 1197]\n",
      "378 [922, 750, 912]\n",
      "379 [2502, 1104, 1394]\n",
      "380 [3435, 1250, 909]\n",
      "381 [1104, 1276, 898]\n",
      "382 [1276, 2858, 904]\n",
      "383 [318, 2959, 858]\n",
      "384 [858, 318, 50]\n",
      "385 [110, 4973, 2324]\n",
      "386 [750, 1262, 1193]\n",
      "387 [3435, 4011, 2028]\n",
      "388 [898, 1276, 3275]\n",
      "389 [1090, 1136, 1197]\n",
      "390 [898, 1245, 3451]\n",
      "391 [30707, 1215, 247]\n",
      "392 [858, 750, 904]\n",
      "393 [55118, 1178, 157296]\n",
      "394 [30707, 2329, 898]\n",
      "395 [55820, 1172, 177593]\n",
      "396 [1198, 296, 1197]\n",
      "397 [1276, 5618, 1197]\n",
      "398 [1235, 750, 318]\n",
      "399 [318, 750, 58559]\n",
      "400 [1276, 750, 898]\n",
      "401 [898, 110, 750]\n",
      "402 [898, 1204, 1225]\n",
      "403 [527, 2959, 750]\n",
      "404 [2502, 898, 750]\n",
      "405 [898, 1207, 2324]\n",
      "406 [97304, 750, 951]\n",
      "407 [898, 3000, 3275]\n",
      "408 [48516, 1204, 908]\n",
      "409 [2571, 541, 750]\n",
      "410 [1262, 62, 162]\n",
      "411 [750, 38061, 177593]\n",
      "412 [2502, 1237, 56251]\n",
      "413 [3671, 898, 5013]\n",
      "414 [3741, 3030, 3468]\n",
      "415 [1204, 1178, 4878]\n",
      "416 [1732, 908, 1221]\n",
      "417 [898, 750, 1276]\n",
      "418 [2858, 2542, 541]\n",
      "419 [1225, 898, 6711]\n",
      "420 [898, 1237, 908]\n",
      "421 [296, 2959, 1089]\n",
      "422 [926, 908, 1248]\n",
      "423 [898, 922, 527]\n",
      "424 [177593, 112552, 1104]\n",
      "425 [265, 1258, 72226]\n",
      "426 [1237, 922, 1225]\n",
      "427 [898, 2571, 5618]\n",
      "428 [1198, 608, 750]\n",
      "429 [318, 912, 922]\n",
      "430 [4973, 50, 608]\n",
      "431 [1199, 260, 356]\n",
      "432 [908, 5013, 1199]\n",
      "433 [1104, 1237, 4973]\n",
      "434 [1199, 4973, 50]\n",
      "435 [750, 2571, 1276]\n",
      "436 [2959, 1208, 750]\n",
      "437 [7153, 1089, 2959]\n",
      "438 [1245, 1207, 898]\n",
      "439 [1276, 4973, 1204]\n",
      "440 [2959, 318, 1089]\n",
      "441 [1252, 951, 1250]\n",
      "442 [750, 898, 318]\n",
      "443 [1276, 750, 1250]\n",
      "444 [2571, 1276, 2858]\n",
      "445 [898, 1270, 1283]\n",
      "446 [1208, 750, 3468]\n",
      "447 [1208, 904, 912]\n",
      "448 [750, 5618, 953]\n",
      "449 [6711, 1089, 909]\n",
      "450 [750, 858, 898]\n",
      "451 [1235, 2571, 1276]\n",
      "452 [6, 50, 223]\n",
      "453 [1197, 2918, 1235]\n",
      "454 [318, 898, 1276]\n",
      "455 [720, 44555, 898]\n",
      "456 [750, 7090, 898]\n",
      "457 [1198, 1208, 750]\n",
      "458 [527, 3147, 318]\n",
      "459 [2329, 1204, 318]\n",
      "460 [4973, 7361, 2028]\n",
      "461 [2324, 1262, 908]\n",
      "462 [3147, 1197, 898]\n",
      "463 [750, 318, 4973]\n",
      "464 [922, 1203, 899]\n",
      "465 [2959, 1222, 296]\n",
      "466 [750, 106642, 1235]\n",
      "467 [7153, 4973, 2959]\n",
      "468 [527, 1250, 904]\n",
      "469 [5618, 3000, 142488]\n",
      "470 [858, 1276, 3451]\n",
      "471 [858, 750, 898]\n",
      "472 [1250, 908, 356]\n",
      "473 [3468, 898, 750]\n",
      "474 [80906, 60069, 7022]\n",
      "475 [50, 1208, 1213]\n",
      "476 [1394, 1221, 904]\n",
      "477 [1104, 2542, 5995]\n",
      "478 [750, 142488, 318]\n",
      "479 [318, 1247, 3147]\n",
      "480 [904, 2019, 750]\n",
      "481 [898, 318, 1213]\n",
      "482 [318, 904, 750]\n",
      "483 [1213, 106100, 750]\n",
      "484 [345, 66934, 1262]\n",
      "485 [912, 260, 3451]\n",
      "486 [2959, 1276, 1252]\n",
      "487 [1237, 898, 162]\n",
      "488 [750, 260, 2571]\n",
      "489 [8917, 4878, 1276]\n",
      "490 [2858, 1252, 1276]\n",
      "491 [318, 750, 541]\n",
      "492 [50, 296, 527]\n",
      "493 [7153, 4973, 898]\n",
      "494 [750, 1252, 1199]\n",
      "495 [2947, 1610, 6283]\n",
      "496 [898, 1197, 750]\n",
      "497 [1250, 1245, 45728]\n",
      "498 [1262, 3275, 1237]\n",
      "499 [5618, 750, 1208]\n",
      "500 [1276, 1199, 2324]\n",
      "501 [1250, 912, 898]\n",
      "502 [1204, 1197, 593]\n",
      "503 [898, 1250, 1225]\n",
      "504 [1235, 1197, 1199]\n",
      "505 [296, 2571, 318]\n",
      "506 [527, 2959, 7153]\n",
      "507 [750, 541, 265]\n",
      "508 [750, 922, 1089]\n",
      "509 [898, 356, 527]\n",
      "510 [296, 1089, 6377]\n",
      "511 [296, 720, 48516]\n",
      "512 [541, 750, 898]\n",
      "513 [1207, 858, 1252]\n",
      "514 [1276, 750, 1080]\n",
      "515 [110, 1196, 1197]\n",
      "516 [318, 904, 3451]\n",
      "517 [2324, 92259, 6331]\n",
      "518 [898, 296, 2019]\n",
      "519 [527, 2791, 55118]\n",
      "520 [1276, 4226, 1208]\n",
      "521 [318, 3275, 898]\n",
      "522 [68237, 1223, 3793]\n",
      "523 [441, 593, 1089]\n",
      "524 [6711, 2571, 68157]\n",
      "525 [922, 4011, 1225]\n",
      "526 [1235, 1197, 3730]\n",
      "527 [1252, 3435, 741]\n",
      "528 [608, 527, 3275]\n",
      "529 [1196, 898, 318]\n",
      "530 [898, 1197, 904]\n",
      "531 [750, 296, 5952]\n",
      "532 [898, 1204, 1276]\n",
      "533 [318, 4993, 908]\n",
      "534 [1250, 1204, 1237]\n",
      "535 [296, 1288, 1276]\n",
      "536 [7361, 3147, 1704]\n",
      "537 [106642, 541, 951]\n",
      "538 [50, 4973, 78499]\n",
      "539 [898, 750, 3741]\n",
      "540 [750, 858, 60069]\n",
      "541 [2329, 1178, 5618]\n",
      "542 [50, 720, 1220]\n",
      "543 [50, 296, 608]\n",
      "544 [898, 922, 1193]\n",
      "545 [50, 5618, 750]\n",
      "546 [318, 898, 2571]\n",
      "547 [2571, 898, 750]\n",
      "548 [527, 898, 904]\n",
      "549 [1252, 1235, 50]\n",
      "550 [2959, 2324, 1704]\n",
      "551 [1250, 1104, 162]\n",
      "552 [858, 608, 4973]\n",
      "553 [318, 1197, 2360]\n",
      "554 [356, 72641, 1204]\n",
      "555 [858, 1207, 246]\n",
      "556 [1262, 750, 1104]\n",
      "557 [110, 1104, 898]\n",
      "558 [1237, 318, 2324]\n",
      "559 [1250, 750, 1178]\n",
      "560 [750, 318, 1235]\n",
      "561 [1136, 904, 898]\n",
      "562 [4973, 3266, 858]\n",
      "563 [898, 2959, 3275]\n",
      "564 [92259, 541, 750]\n",
      "565 [750, 608, 2959]\n",
      "566 [2571, 58559, 4973]\n",
      "567 [6016, 3030, 858]\n",
      "568 [475, 7361, 750]\n",
      "569 [750, 2959, 858]\n",
      "570 [1252, 296, 1267]\n",
      "571 [2398, 3494, 541]\n",
      "572 [1197, 50, 2324]\n",
      "573 [527, 608, 265]\n",
      "574 [750, 1197, 1235]\n",
      "575 [50, 2959, 1283]\n",
      "576 [898, 1250, 65261]\n",
      "577 [50, 246, 2329]\n",
      "578 [50, 318, 2324]\n",
      "579 [1225, 1237, 318]\n",
      "580 [750, 1276, 51255]\n",
      "581 [1276, 6283, 1223]\n",
      "582 [750, 2324, 318]\n",
      "583 [318, 1235, 1104]\n",
      "584 [260, 1197, 1213]\n",
      "585 [50, 2571, 260]\n",
      "586 [265, 1225, 1237]\n",
      "587 [1198, 750, 2959]\n",
      "588 [1104, 750, 1206]\n",
      "589 [5618, 858, 1225]\n",
      "590 [1225, 1178, 57669]\n",
      "591 [898, 318, 1197]\n",
      "592 [1250, 745, 1225]\n",
      "593 [750, 6016, 56782]\n",
      "594 [527, 1258, 2502]\n",
      "595 [318, 1204, 750]\n",
      "596 [750, 3429, 720]\n",
      "597 [593, 318, 527]\n",
      "598 [898, 1261, 750]\n",
      "599 [1276, 247, 909]\n",
      "600 [3435, 99114, 7387]\n",
      "601 [898, 1178, 1204]\n",
      "602 [858, 1208, 1089]\n",
      "603 [5989, 4973, 475]\n",
      "604 [2502, 1276, 750]\n",
      "605 [1250, 527, 750]\n",
      "606 [1035, 1104, 68157]\n",
      "607 [1235, 3578, 112552]\n",
      "608 [1246, 905, 79132]\n",
      "609 [750, 1196, 2959]\n",
      "610 [1617, 3435, 1252]\n"
     ]
    }
   ],
   "source": [
    "from collections import defaultdict\n",
    "def get_top_n(predictions , n):\n",
    "    top_n = defaultdict(list)\n",
    "    for uid, iid, _,est, _ in predictions:\n",
    "        top_n[uid].append((iid, est))\n",
    "        \n",
    "    for uid, user_ratings in top_n.items():\n",
    "        user_ratings.sort(key = lambda x : x[1], reverse = True)\n",
    "        top_n[uid] = user_ratings[:n]\n",
    "    return top_n\n",
    "    pass\n",
    "top_n = get_top_n(predictions,n=3)\n",
    "for uid, user_ratings in top_n.items():\n",
    "    print(uid, [iid for (iid, rating) in user_ratings])"
   ]
  },
  {
   "cell_type": "code",
   "execution_count": null,
   "metadata": {},
   "outputs": [],
   "source": []
  }
 ],
 "metadata": {
  "colab": {
   "collapsed_sections": [],
   "name": "Movies Recommendation Engine - Coursera [Starter]",
   "provenance": [],
   "toc_visible": true
  },
  "kernelspec": {
   "display_name": "Python 3",
   "language": "python",
   "name": "python3"
  },
  "language_info": {
   "codemirror_mode": {
    "name": "ipython",
    "version": 3
   },
   "file_extension": ".py",
   "mimetype": "text/x-python",
   "name": "python",
   "nbconvert_exporter": "python",
   "pygments_lexer": "ipython3",
   "version": "3.7.4"
  }
 },
 "nbformat": 4,
 "nbformat_minor": 4
}
